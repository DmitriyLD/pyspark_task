{
  "nbformat": 4,
  "nbformat_minor": 0,
  "metadata": {
    "colab": {
      "provenance": []
    },
    "kernelspec": {
      "name": "python3",
      "display_name": "Python 3"
    },
    "language_info": {
      "name": "python"
    }
  },
  "cells": [
    {
      "cell_type": "code",
      "source": [
        "from pyspark.sql import SparkSession\n",
        "from pyspark.sql.functions import col, rand, expr\n",
        "import random\n",
        "from datetime import datetime, timedelta"
      ],
      "metadata": {
        "id": "j1y3IUyqkqLV"
      },
      "execution_count": 2,
      "outputs": []
    },
    {
      "cell_type": "code",
      "source": [
        "spark = SparkSession.builder \\\n",
        "    .appName(\"Synthetic Data Generation\") \\\n",
        "    .getOrCreate()"
      ],
      "metadata": {
        "id": "NHbJJxVqk9V2"
      },
      "execution_count": 3,
      "outputs": []
    },
    {
      "cell_type": "code",
      "source": [
        "num_records = 1000  # Минимальное количество строк\n",
        "products = [\"Товар A\", \"Товар B\", \"Товар C\", \"Товар D\", \"Товар E\"]\n",
        "min_quantity = 1\n",
        "max_quantity = 10\n",
        "min_price = 100.0\n",
        "max_price = 1000.0\n",
        "\n",
        "# Генерация случайных дат в пределах последнего года\n",
        "start_date = datetime.now() - timedelta(days=365)\n",
        "end_date = datetime.now()\n",
        "date_range = (end_date - start_date).days"
      ],
      "metadata": {
        "id": "iy5K1Szzk_jN"
      },
      "execution_count": 4,
      "outputs": []
    },
    {
      "cell_type": "code",
      "source": [
        "data = []\n",
        "for _ in range(num_records):\n",
        "    order_date = start_date + timedelta(days=random.randint(0, date_range))\n",
        "    user_id = random.randint(1, 1000)\n",
        "    product = random.choice(products)\n",
        "    quantity = random.randint(min_quantity, max_quantity)\n",
        "    price = round(random.uniform(min_price, max_price), 2)\n",
        "\n",
        "    data.append((order_date.strftime('%Y-%m-%d'), user_id, product, quantity, price))\n",
        "\n",
        "df = spark.createDataFrame(data, [\"Дата\", \"UserID\", \"Продукт\", \"Количество\", \"Цена\"])"
      ],
      "metadata": {
        "id": "1KOBcy1ZlPO5"
      },
      "execution_count": 5,
      "outputs": []
    },
    {
      "cell_type": "code",
      "source": [
        "df.write.csv(\"synthetic_data.csv\", header=True)"
      ],
      "metadata": {
        "id": "tFnVXWCNlYIx"
      },
      "execution_count": 6,
      "outputs": []
    },
    {
      "cell_type": "code",
      "source": [
        "spark.stop()"
      ],
      "metadata": {
        "id": "c8FRfe0alhUR"
      },
      "execution_count": 7,
      "outputs": []
    },
    {
      "cell_type": "code",
      "source": [],
      "metadata": {
        "id": "y4uQb9Dwnikm"
      },
      "execution_count": null,
      "outputs": []
    }
  ]
}
